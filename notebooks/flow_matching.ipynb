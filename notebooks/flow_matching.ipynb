{
 "cells": [
  {
   "cell_type": "code",
   "execution_count": 1,
   "metadata": {},
   "outputs": [],
   "source": [
    "# autoreload\n",
    "%load_ext autoreload\n",
    "%autoreload 2"
   ]
  },
  {
   "cell_type": "code",
   "execution_count": 2,
   "metadata": {},
   "outputs": [],
   "source": [
    "import jax\n",
    "import jax.numpy as jnp\n",
    "from jax import random\n",
    "from functools import partial\n",
    "from typing import Optional, Mapping, Tuple, Sequence, Union, Any, Callable, Iterator\n",
    "from jaxtyping import Array, PRNGKeyArray\n",
    "from generax.training.trainer import Trainer\n",
    "import generax.nn.util as util\n",
    "import matplotlib.pyplot as plt"
   ]
  },
  {
   "cell_type": "markdown",
   "metadata": {},
   "source": [
    "### Get our dataset.  Flow matching works when our data has low rank!"
   ]
  },
  {
   "cell_type": "code",
   "execution_count": 3,
   "metadata": {},
   "outputs": [],
   "source": [
    "# Get the dataset\n",
    "from sklearn.datasets import make_moons, make_swiss_roll\n",
    "data, y = make_moons(n_samples=100000, noise=0.0)\n",
    "data = data - data.mean(axis=0)\n",
    "data = data/data.std(axis=0)\n",
    "key = random.PRNGKey(0)\n",
    "\n",
    "def get_train_ds(key: PRNGKeyArray,\n",
    "                 batch_size: int = 64) -> Iterator[Mapping[str, Array]]:\n",
    "  total_choices = jnp.arange(data.shape[0])\n",
    "  closed_over_data = data # In case we change the variable \"data\"\n",
    "  while True:\n",
    "    key, _ = random.split(key, 2)\n",
    "    idx = random.choice(key,\n",
    "                        total_choices,\n",
    "                        shape=(batch_size,),\n",
    "                        replace=True)\n",
    "    yield dict(x=closed_over_data[idx])\n",
    "\n",
    "train_ds = get_train_ds(key)\n"
   ]
  },
  {
   "cell_type": "code",
   "execution_count": 4,
   "metadata": {},
   "outputs": [
    {
     "data": {
      "text/plain": [
       "<matplotlib.collections.PathCollection at 0x7f93ac654f70>"
      ]
     },
     "execution_count": 4,
     "metadata": {},
     "output_type": "execute_result"
    },
    {
     "data": {
      "image/png": "[encoded data removed]",
      "text/plain": [
       "<Figure size 640x480 with 1 Axes>"
      ]
     },
     "metadata": {},
     "output_type": "display_data"
    }
   ],
   "source": [
    "true_samples = util.extract_multiple_batches_from_iterator(train_ds,\n",
    "                                                   n_batches=10,\n",
    "                                                   single_batch=True)\n",
    "plt.scatter(*true_samples['x'].T)\n"
   ]
  },
  {
   "cell_type": "markdown",
   "metadata": {},
   "source": [
    "## Build our flow"
   ]
  },
  {
   "cell_type": "code",
   "execution_count": 5,
   "metadata": {},
   "outputs": [],
   "source": [
    "x = data[:10]\n",
    "\n",
    "from generax.distributions.flow_models import RealNVP, NeuralSpline, ContinuousNormalizingFlow\n",
    "\n",
    "P = ContinuousNormalizingFlow(input_shape=x.shape[1:],\n",
    "           key=key,\n",
    "           n_blocks=4,\n",
    "           hidden_size=32,\n",
    "           working_size=16,\n",
    "           time_embedding_size=8,\n",
    "           n_time_features=4)"
   ]
  },
  {
   "cell_type": "markdown",
   "metadata": {},
   "source": [
    "## Train the flow"
   ]
  },
  {
   "cell_type": "code",
   "execution_count": 6,
   "metadata": {},
   "outputs": [
    {
     "name": "stderr",
     "output_type": "stream",
     "text": [
      "loss: 0.1494:  20%|██        | 2000/10000 [00:14<00:58, 137.66it/s]"
     ]
    },
    {
     "name": "stdout",
     "output_type": "stream",
     "text": [
      "Checkpointed model\n"
     ]
    },
    {
     "name": "stderr",
     "output_type": "stream",
     "text": [
      "loss: 0.1399:  30%|███       | 3000/10000 [00:18<00:38, 180.57it/s]"
     ]
    },
    {
     "name": "stdout",
     "output_type": "stream",
     "text": [
      "Checkpointed model\n"
     ]
    },
    {
     "name": "stderr",
     "output_type": "stream",
     "text": [
      "loss: 0.1372:  40%|████      | 4000/10000 [00:21<00:28, 211.75it/s]"
     ]
    },
    {
     "name": "stdout",
     "output_type": "stream",
     "text": [
      "Checkpointed model\n"
     ]
    },
    {
     "name": "stderr",
     "output_type": "stream",
     "text": [
      "loss: 0.1359:  50%|█████     | 5000/10000 [00:24<00:21, 235.32it/s]"
     ]
    },
    {
     "name": "stdout",
     "output_type": "stream",
     "text": [
      "Checkpointed model\n"
     ]
    },
    {
     "name": "stderr",
     "output_type": "stream",
     "text": [
      "loss: 0.1345:  60%|██████    | 6000/10000 [00:28<00:15, 251.12it/s]"
     ]
    },
    {
     "name": "stdout",
     "output_type": "stream",
     "text": [
      "Checkpointed model\n"
     ]
    },
    {
     "name": "stderr",
     "output_type": "stream",
     "text": [
      "loss: 0.1311:  70%|███████   | 7000/10000 [00:31<00:11, 263.66it/s]"
     ]
    },
    {
     "name": "stdout",
     "output_type": "stream",
     "text": [
      "Checkpointed model\n"
     ]
    },
    {
     "name": "stderr",
     "output_type": "stream",
     "text": [
      "loss: 0.1283:  80%|████████  | 8000/10000 [00:35<00:07, 273.13it/s]"
     ]
    },
    {
     "name": "stdout",
     "output_type": "stream",
     "text": [
      "Checkpointed model\n"
     ]
    },
    {
     "name": "stderr",
     "output_type": "stream",
     "text": [
      "loss: 0.1264:  90%|█████████ | 9000/10000 [00:38<00:03, 280.02it/s]"
     ]
    },
    {
     "name": "stdout",
     "output_type": "stream",
     "text": [
      "Checkpointed model\n"
     ]
    },
    {
     "name": "stderr",
     "output_type": "stream",
     "text": [
      "loss: 0.1284:   0%|          | 10/10000 [00:42<11:39:42,  4.20s/it] "
     ]
    },
    {
     "name": "stdout",
     "output_type": "stream",
     "text": [
      "Checkpointed model\n"
     ]
    },
    {
     "name": "stderr",
     "output_type": "stream",
     "text": [
      "\n"
     ]
    }
   ],
   "source": [
    "from generax.training import FlowMatching\n",
    "import optax\n",
    "\n",
    "# Create the optimizer\n",
    "schedule = optax.warmup_cosine_decay_schedule(init_value=0.0,\n",
    "                                   peak_value=1.0,\n",
    "                                   warmup_steps=1000,\n",
    "                                   decay_steps=3e5,\n",
    "                                   end_value=0.1,\n",
    "                                   exponent=1.0)\n",
    "chain = []\n",
    "chain.append(optax.clip_by_global_norm(15.0))\n",
    "chain.append(optax.adamw(1e-3))\n",
    "chain.append(optax.scale_by_schedule(schedule))\n",
    "optimizer = optax.chain(*chain)\n",
    "\n",
    "# Create the loss function\n",
    "fm = FlowMatching(path_type='straight',\n",
    "                  coupling_type='ot')\n",
    "\n",
    "# Data dependent initialization for the vector field\n",
    "data = next(train_ds)\n",
    "P = fm.initialize_vector_field(P, data, key)\n",
    "\n",
    "# Create the trainer\n",
    "trainer = Trainer(checkpoint_path='tmp/flow/flow_matching')\n",
    "model = trainer.train(model=P,\n",
    "                      objective=fm.loss_function,\n",
    "                      evaluate_model=lambda x: x,\n",
    "                      optimizer=optimizer,\n",
    "                      num_steps=10000,\n",
    "                      double_batch=1000,\n",
    "                      data_iterator=train_ds,\n",
    "                      checkpoint_every=1000,\n",
    "                      test_every=-1,\n",
    "                      retrain=True)"
   ]
  },
  {
   "cell_type": "code",
   "execution_count": 7,
   "metadata": {},
   "outputs": [],
   "source": [
    "samples = model.sample(key, n_samples=1000)"
   ]
  },
  {
   "cell_type": "code",
   "execution_count": 8,
   "metadata": {},
   "outputs": [
    {
     "data": {
      "text/plain": [
       "<matplotlib.collections.PathCollection at 0x7f9397c1d390>"
      ]
     },
     "execution_count": 8,
     "metadata": {},
     "output_type": "execute_result"
    },
    {
     "data": {
      "image/png": "[encoded data removed]",
      "text/plain": [
       "<Figure size 640x480 with 1 Axes>"
      ]
     },
     "metadata": {},
     "output_type": "display_data"
    }
   ],
   "source": [
    "import matplotlib.pyplot as plt\n",
    "plt.scatter(*samples.T)"
   ]
  },
  {
   "cell_type": "code",
   "execution_count": null,
   "metadata": {},
   "outputs": [],
   "source": []
  },
  {
   "cell_type": "code",
   "execution_count": null,
   "metadata": {},
   "outputs": [],
   "source": []
  },
  {
   "cell_type": "code",
   "execution_count": null,
   "metadata": {},
   "outputs": [],
   "source": []
  },
  {
   "cell_type": "code",
   "execution_count": null,
   "metadata": {},
   "outputs": [],
   "source": []
  }
 ],
 "metadata": {
  "kernelspec": {
   "display_name": "flow",
   "language": "python",
   "name": "python3"
  },
  "language_info": {
   "codemirror_mode": {
    "name": "ipython",
    "version": 3
   },
   "file_extension": ".py",
   "mimetype": "text/x-python",
   "name": "python",
   "nbconvert_exporter": "python",
   "pygments_lexer": "ipython3",
   "version": "3.10.13"
  }
 },
 "nbformat": 4,
 "nbformat_minor": 2
}
